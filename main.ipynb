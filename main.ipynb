{
 "cells": [
  {
   "cell_type": "markdown",
   "metadata": {},
   "source": [
    "ALL THE EXTERNAL REUIQREMENTS ARE PRESNET IN ./requirement.txt"
   ]
  },
  {
   "cell_type": "code",
   "execution_count": null,
   "metadata": {},
   "outputs": [],
   "source": [
    "%pip install -r requirement.txt"
   ]
  },
  {
   "cell_type": "code",
   "execution_count": null,
   "metadata": {},
   "outputs": [],
   "source": [
    "#error can occur, careful!!\n",
    "%pip install https://github.com/explosion/spacy-models/releases/download/en_core_web_md-3.0.0/en_core_web_md-3.0.0.tar.gz\n",
    "%pip install https://s3-us-west-2.amazonaws.com/ai2-s2-scispacy/releases/v0.4.0/en_ner_bc5cdr_md-0.4.0.tar.gz"
   ]
  },
  {
   "cell_type": "code",
   "execution_count": 2,
   "metadata": {},
   "outputs": [],
   "source": [
    "import os\n",
    "cwd_path= os.getcwd()\n",
    "cwd_path= cwd_path.replace(\"\\\\\",\"/\")"
   ]
  },
  {
   "cell_type": "markdown",
   "metadata": {},
   "source": [
    "Lets scrape the required dataset \n",
    "Input will be a text file containing articles abstracts from pubmed"
   ]
  },
  {
   "cell_type": "code",
   "execution_count": 5,
   "metadata": {},
   "outputs": [
    {
     "name": "stdout",
     "output_type": "stream",
     "text": [
      "Search results saved to a text file.\n"
     ]
    }
   ],
   "source": [
    "from my_packages.get_document import module_get_document\n",
    "\n",
    "kg_disease= str(input(\"please enter the disease you want a knowledge graph for: \"))\n",
    "no_of_articles= int(input(\"please enter the number of articles you want to consider: \")) #expected wall time for 10 articles around 12 mins\n",
    "dataset_file_path= cwd_path + \"/datasets/dataset.txt\"\n",
    "\n",
    "module_get_document.get_docx(kg_disease, no_of_articles, dataset_file_path)\n"
   ]
  },
  {
   "cell_type": "markdown",
   "metadata": {},
   "source": [
    "Lets crete a log file for ouputs "
   ]
  },
  {
   "cell_type": "code",
   "execution_count": 6,
   "metadata": {},
   "outputs": [],
   "source": [
    "log_file_path= cwd_path + \"/ouput/output_log.txt\"\n",
    "\n",
    "try:\n",
    "    with open(log_file_path, 'w') as fh:\n",
    "        fh.write(\"welcome to the log file!\")\n",
    "except Exception as e:\n",
    "    print(e)"
   ]
  },
  {
   "cell_type": "markdown",
   "metadata": {},
   "source": [
    "Lets create a dataframe that can be later deployed to neo4J"
   ]
  },
  {
   "cell_type": "code",
   "execution_count": 7,
   "metadata": {},
   "outputs": [
    {
     "name": "stderr",
     "output_type": "stream",
     "text": [
      "d:\\VIISem\\knowledgeGraphUsingMondo\\.conda\\lib\\site-packages\\tqdm\\auto.py:21: TqdmWarning: IProgress not found. Please update jupyter and ipywidgets. See https://ipywidgets.readthedocs.io/en/stable/user_install.html\n",
      "  from .autonotebook import tqdm as notebook_tqdm\n",
      "None of PyTorch, TensorFlow >= 2.0, or Flax have been found. Models won't be available and only tokenizers, configuration and file/data utilities can be used.\n",
      "100%|██████████| 116/116 [03:31<00:00,  1.82s/it]\n"
     ]
    }
   ],
   "source": [
    "from my_packages.get_knowledgeGraph import module_getKnowledgeGrpah\n",
    "\n",
    "output_df_path= module_getKnowledgeGrpah.get_gph(cwd_path, log_file_path, dataset_file_path)\n"
   ]
  },
  {
   "cell_type": "markdown",
   "metadata": {},
   "source": [
    "Lets deploy df to neo4J :)"
   ]
  },
  {
   "cell_type": "code",
   "execution_count": 8,
   "metadata": {},
   "outputs": [
    {
     "name": "stdout",
     "output_type": "stream",
     "text": [
      "{'total': 112, 'batches': 1, 'time': 4.702183961868286}\n",
      "{'total': 0, 'batches': 1, 'time': 4.342350244522095}\n",
      "{'total': 0, 'batches': 1, 'time': 1.8585114479064941}\n",
      "{'total': 0, 'batches': 1, 'time': 1.2018826007843018}\n"
     ]
    }
   ],
   "source": [
    "from my_packages.create_graph import module_createGraph\n",
    "#the load_gh fn takes input of bolt url and password of sandbox, create your own sandbow on neo4J\n",
    "class_labels= module_createGraph.load_gh(\"bolt://54.152.14.194:7687\", \"attack-possibilities-workman\", output_df_path)"
   ]
  },
  {
   "cell_type": "markdown",
   "metadata": {},
   "source": [
    "* Ignore below if you dont need to check efficiency!!"
   ]
  },
  {
   "cell_type": "code",
   "execution_count": 4,
   "metadata": {},
   "outputs": [
    {
     "ename": "NameError",
     "evalue": "name 'output_df_path' is not defined",
     "output_type": "error",
     "traceback": [
      "\u001b[1;31m---------------------------------------------------------------------------\u001b[0m",
      "\u001b[1;31mNameError\u001b[0m                                 Traceback (most recent call last)",
      "\u001b[1;32md:\\VIISem\\knowledgeGraphUsingMondo\\main.ipynb Cell 14\u001b[0m line \u001b[0;36m3\n\u001b[0;32m      <a href='vscode-notebook-cell:/d%3A/VIISem/knowledgeGraphUsingMondo/main.ipynb#X15sZmlsZQ%3D%3D?line=0'>1</a>\u001b[0m annotated_file_path\u001b[39m=\u001b[39m cwd_path \u001b[39m+\u001b[39m \u001b[39m\"\u001b[39m\u001b[39m/ouput/annotated.csv\u001b[39m\u001b[39m\"\u001b[39m\n\u001b[0;32m      <a href='vscode-notebook-cell:/d%3A/VIISem/knowledgeGraphUsingMondo/main.ipynb#X15sZmlsZQ%3D%3D?line=1'>2</a>\u001b[0m \u001b[39mfrom\u001b[39;00m \u001b[39mmy_packages\u001b[39;00m\u001b[39m.\u001b[39;00m\u001b[39mcheck_efficiencyGraph\u001b[39;00m \u001b[39mimport\u001b[39;00m module_get_efficiency\n\u001b[1;32m----> <a href='vscode-notebook-cell:/d%3A/VIISem/knowledgeGraphUsingMondo/main.ipynb#X15sZmlsZQ%3D%3D?line=2'>3</a>\u001b[0m module_get_efficiency\u001b[39m.\u001b[39mcheck_ef(output_df_path, annotated_file_path)\n",
      "\u001b[1;31mNameError\u001b[0m: name 'output_df_path' is not defined"
     ]
    }
   ],
   "source": [
    "annotated_file_path= cwd_path + \"/ouput/annotated.csv\"\n",
    "from my_packages.check_efficiencyGraph import module_get_efficiency\n",
    "module_get_efficiency.check_ef(output_df_path, annotated_file_path)"
   ]
  }
 ],
 "metadata": {
  "kernelspec": {
   "display_name": "Python 3",
   "language": "python",
   "name": "python3"
  },
  "language_info": {
   "codemirror_mode": {
    "name": "ipython",
    "version": 3
   },
   "file_extension": ".py",
   "mimetype": "text/x-python",
   "name": "python",
   "nbconvert_exporter": "python",
   "pygments_lexer": "ipython3",
   "version": "3.10.13"
  }
 },
 "nbformat": 4,
 "nbformat_minor": 2
}
