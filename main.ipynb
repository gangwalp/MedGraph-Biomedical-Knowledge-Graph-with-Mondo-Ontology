{
 "cells": [
  {
   "cell_type": "markdown",
   "metadata": {},
   "source": [
    "ALL THE EXTERNAL REUIQREMENTS ARE PRESNET IN ./requirement.txt"
   ]
  },
  {
   "cell_type": "code",
   "execution_count": 1,
   "metadata": {},
   "outputs": [
    {
     "name": "stdout",
     "output_type": "stream",
     "text": [
      "Requirement already satisfied: bs4 in d:\\viisem\\knowledgegraphusingmondo\\.conda\\lib\\site-packages (from -r requirement.txt (line 1)) (0.0.1)\n",
      "Requirement already satisfied: python-docx in d:\\viisem\\knowledgegraphusingmondo\\.conda\\lib\\site-packages (from -r requirement.txt (line 2)) (1.1.0)\n",
      "Requirement already satisfied: docx in d:\\viisem\\knowledgegraphusingmondo\\.conda\\lib\\site-packages (from -r requirement.txt (line 3)) (0.2.4)\n",
      "Requirement already satisfied: requests in d:\\viisem\\knowledgegraphusingmondo\\.conda\\lib\\site-packages (from -r requirement.txt (line 4)) (2.31.0)\n",
      "Requirement already satisfied: spacy in d:\\viisem\\knowledgegraphusingmondo\\.conda\\lib\\site-packages (from -r requirement.txt (line 5)) (3.0.9)\n",
      "Requirement already satisfied: pywikibot in d:\\viisem\\knowledgegraphusingmondo\\.conda\\lib\\site-packages (from -r requirement.txt (line 6)) (8.5.0)\n",
      "Requirement already satisfied: transformers in d:\\viisem\\knowledgegraphusingmondo\\.conda\\lib\\site-packages (from -r requirement.txt (line 7)) (4.35.0)\n",
      "Requirement already satisfied: rdflib in d:\\viisem\\knowledgegraphusingmondo\\.conda\\lib\\site-packages (from -r requirement.txt (line 8)) (7.0.0)\n",
      "Requirement already satisfied: tqdm in d:\\viisem\\knowledgegraphusingmondo\\.conda\\lib\\site-packages (from -r requirement.txt (line 9)) (4.66.1)\n",
      "Requirement already satisfied: pandas in d:\\viisem\\knowledgegraphusingmondo\\.conda\\lib\\site-packages (from -r requirement.txt (line 10)) (2.1.2)\n",
      "Requirement already satisfied: neo4j in d:\\viisem\\knowledgegraphusingmondo\\.conda\\lib\\site-packages (from -r requirement.txt (line 11)) (5.14.1)\n",
      "Collecting scispacy (from -r requirement.txt (line 12))\n",
      "  Using cached scispacy-0.5.3-py3-none-any.whl.metadata (16 kB)\n",
      "Requirement already satisfied: beautifulsoup4 in d:\\viisem\\knowledgegraphusingmondo\\.conda\\lib\\site-packages (from bs4->-r requirement.txt (line 1)) (4.12.2)\n",
      "Requirement already satisfied: lxml>=3.1.0 in d:\\viisem\\knowledgegraphusingmondo\\.conda\\lib\\site-packages (from python-docx->-r requirement.txt (line 2)) (4.9.3)\n",
      "Requirement already satisfied: typing-extensions in d:\\viisem\\knowledgegraphusingmondo\\.conda\\lib\\site-packages (from python-docx->-r requirement.txt (line 2)) (4.8.0)\n",
      "Requirement already satisfied: Pillow>=2.0 in d:\\viisem\\knowledgegraphusingmondo\\.conda\\lib\\site-packages (from docx->-r requirement.txt (line 3)) (10.1.0)\n",
      "Requirement already satisfied: charset-normalizer<4,>=2 in d:\\viisem\\knowledgegraphusingmondo\\.conda\\lib\\site-packages (from requests->-r requirement.txt (line 4)) (3.3.2)\n",
      "Requirement already satisfied: idna<4,>=2.5 in d:\\viisem\\knowledgegraphusingmondo\\.conda\\lib\\site-packages (from requests->-r requirement.txt (line 4)) (3.4)\n",
      "Requirement already satisfied: urllib3<3,>=1.21.1 in d:\\viisem\\knowledgegraphusingmondo\\.conda\\lib\\site-packages (from requests->-r requirement.txt (line 4)) (2.0.7)\n",
      "Requirement already satisfied: certifi>=2017.4.17 in d:\\viisem\\knowledgegraphusingmondo\\.conda\\lib\\site-packages (from requests->-r requirement.txt (line 4)) (2023.7.22)\n",
      "Requirement already satisfied: spacy-legacy<3.1.0,>=3.0.5 in d:\\viisem\\knowledgegraphusingmondo\\.conda\\lib\\site-packages (from spacy->-r requirement.txt (line 5)) (3.0.12)\n",
      "Requirement already satisfied: murmurhash<1.1.0,>=0.28.0 in d:\\viisem\\knowledgegraphusingmondo\\.conda\\lib\\site-packages (from spacy->-r requirement.txt (line 5)) (1.0.10)\n",
      "Requirement already satisfied: cymem<2.1.0,>=2.0.2 in d:\\viisem\\knowledgegraphusingmondo\\.conda\\lib\\site-packages (from spacy->-r requirement.txt (line 5)) (2.0.8)\n",
      "Requirement already satisfied: preshed<3.1.0,>=3.0.2 in d:\\viisem\\knowledgegraphusingmondo\\.conda\\lib\\site-packages (from spacy->-r requirement.txt (line 5)) (3.0.9)\n",
      "Requirement already satisfied: thinc<8.1.0,>=8.0.3 in d:\\viisem\\knowledgegraphusingmondo\\.conda\\lib\\site-packages (from spacy->-r requirement.txt (line 5)) (8.0.17)\n",
      "Requirement already satisfied: blis<0.8.0,>=0.4.0 in d:\\viisem\\knowledgegraphusingmondo\\.conda\\lib\\site-packages (from spacy->-r requirement.txt (line 5)) (0.7.11)\n",
      "Requirement already satisfied: wasabi<1.1.0,>=0.8.1 in d:\\viisem\\knowledgegraphusingmondo\\.conda\\lib\\site-packages (from spacy->-r requirement.txt (line 5)) (0.10.1)\n",
      "Requirement already satisfied: srsly<3.0.0,>=2.4.1 in d:\\viisem\\knowledgegraphusingmondo\\.conda\\lib\\site-packages (from spacy->-r requirement.txt (line 5)) (2.4.8)\n",
      "Requirement already satisfied: catalogue<2.1.0,>=2.0.4 in d:\\viisem\\knowledgegraphusingmondo\\.conda\\lib\\site-packages (from spacy->-r requirement.txt (line 5)) (2.0.10)\n",
      "Requirement already satisfied: typer<0.4.0,>=0.3.0 in d:\\viisem\\knowledgegraphusingmondo\\.conda\\lib\\site-packages (from spacy->-r requirement.txt (line 5)) (0.3.2)\n",
      "Requirement already satisfied: pathy>=0.3.5 in d:\\viisem\\knowledgegraphusingmondo\\.conda\\lib\\site-packages (from spacy->-r requirement.txt (line 5)) (0.10.3)\n",
      "Requirement already satisfied: smart-open<7.0.0,>=5.2.1 in d:\\viisem\\knowledgegraphusingmondo\\.conda\\lib\\site-packages (from spacy->-r requirement.txt (line 5)) (6.4.0)\n",
      "Requirement already satisfied: numpy>=1.15.0 in d:\\viisem\\knowledgegraphusingmondo\\.conda\\lib\\site-packages (from spacy->-r requirement.txt (line 5)) (1.26.1)\n",
      "Requirement already satisfied: pydantic!=1.8,!=1.8.1,<1.9.0,>=1.7.4 in d:\\viisem\\knowledgegraphusingmondo\\.conda\\lib\\site-packages (from spacy->-r requirement.txt (line 5)) (1.8.2)\n",
      "Requirement already satisfied: jinja2 in d:\\viisem\\knowledgegraphusingmondo\\.conda\\lib\\site-packages (from spacy->-r requirement.txt (line 5)) (3.1.2)\n",
      "Requirement already satisfied: setuptools in d:\\viisem\\knowledgegraphusingmondo\\.conda\\lib\\site-packages (from spacy->-r requirement.txt (line 5)) (68.0.0)\n",
      "Requirement already satisfied: packaging>=20.0 in d:\\viisem\\knowledgegraphusingmondo\\.conda\\lib\\site-packages (from spacy->-r requirement.txt (line 5)) (23.2)\n",
      "Requirement already satisfied: mwparserfromhell>=0.5.2 in d:\\viisem\\knowledgegraphusingmondo\\.conda\\lib\\site-packages (from pywikibot->-r requirement.txt (line 6)) (0.6.5)\n",
      "Requirement already satisfied: filelock in d:\\viisem\\knowledgegraphusingmondo\\.conda\\lib\\site-packages (from transformers->-r requirement.txt (line 7)) (3.13.1)\n",
      "Requirement already satisfied: huggingface-hub<1.0,>=0.16.4 in d:\\viisem\\knowledgegraphusingmondo\\.conda\\lib\\site-packages (from transformers->-r requirement.txt (line 7)) (0.17.3)\n",
      "Requirement already satisfied: pyyaml>=5.1 in d:\\viisem\\knowledgegraphusingmondo\\.conda\\lib\\site-packages (from transformers->-r requirement.txt (line 7)) (6.0.1)\n",
      "Requirement already satisfied: regex!=2019.12.17 in d:\\viisem\\knowledgegraphusingmondo\\.conda\\lib\\site-packages (from transformers->-r requirement.txt (line 7)) (2023.10.3)\n",
      "Requirement already satisfied: tokenizers<0.15,>=0.14 in d:\\viisem\\knowledgegraphusingmondo\\.conda\\lib\\site-packages (from transformers->-r requirement.txt (line 7)) (0.14.1)\n",
      "Requirement already satisfied: safetensors>=0.3.1 in d:\\viisem\\knowledgegraphusingmondo\\.conda\\lib\\site-packages (from transformers->-r requirement.txt (line 7)) (0.4.0)\n",
      "Requirement already satisfied: isodate<0.7.0,>=0.6.0 in d:\\viisem\\knowledgegraphusingmondo\\.conda\\lib\\site-packages (from rdflib->-r requirement.txt (line 8)) (0.6.1)\n",
      "Requirement already satisfied: pyparsing<4,>=2.1.0 in d:\\viisem\\knowledgegraphusingmondo\\.conda\\lib\\site-packages (from rdflib->-r requirement.txt (line 8)) (3.1.1)\n",
      "Requirement already satisfied: colorama in d:\\viisem\\knowledgegraphusingmondo\\.conda\\lib\\site-packages (from tqdm->-r requirement.txt (line 9)) (0.4.6)\n",
      "Requirement already satisfied: python-dateutil>=2.8.2 in d:\\viisem\\knowledgegraphusingmondo\\.conda\\lib\\site-packages (from pandas->-r requirement.txt (line 10)) (2.8.2)\n",
      "Requirement already satisfied: pytz>=2020.1 in d:\\viisem\\knowledgegraphusingmondo\\.conda\\lib\\site-packages (from pandas->-r requirement.txt (line 10)) (2023.3.post1)\n",
      "Requirement already satisfied: tzdata>=2022.1 in d:\\viisem\\knowledgegraphusingmondo\\.conda\\lib\\site-packages (from pandas->-r requirement.txt (line 10)) (2023.3)\n",
      "Collecting spacy (from -r requirement.txt (line 5))\n",
      "  Using cached spacy-3.6.1-cp310-cp310-win_amd64.whl.metadata (26 kB)\n",
      "Collecting scipy<1.11 (from scispacy->-r requirement.txt (line 12))\n",
      "  Using cached scipy-1.10.1-cp310-cp310-win_amd64.whl (42.5 MB)\n",
      "Collecting conllu (from scispacy->-r requirement.txt (line 12))\n",
      "  Using cached conllu-4.5.3-py2.py3-none-any.whl.metadata (19 kB)\n",
      "Collecting joblib (from scispacy->-r requirement.txt (line 12))\n",
      "  Using cached joblib-1.3.2-py3-none-any.whl.metadata (5.4 kB)\n",
      "Collecting nmslib>=1.7.3.6 (from scispacy->-r requirement.txt (line 12))\n",
      "  Using cached nmslib-2.1.1.tar.gz (188 kB)\n",
      "  Preparing metadata (setup.py): started\n",
      "  Preparing metadata (setup.py): finished with status 'done'\n",
      "Collecting scikit-learn>=0.20.3 (from scispacy->-r requirement.txt (line 12))\n",
      "  Using cached scikit_learn-1.3.2-cp310-cp310-win_amd64.whl.metadata (11 kB)\n",
      "Collecting pysbd (from scispacy->-r requirement.txt (line 12))\n",
      "  Using cached pysbd-0.3.4-py3-none-any.whl (71 kB)\n",
      "Requirement already satisfied: spacy-loggers<2.0.0,>=1.0.0 in d:\\viisem\\knowledgegraphusingmondo\\.conda\\lib\\site-packages (from spacy->-r requirement.txt (line 5)) (1.0.5)\n",
      "Collecting thinc<8.2.0,>=8.1.8 (from spacy->-r requirement.txt (line 5))\n",
      "  Using cached thinc-8.1.12-cp310-cp310-win_amd64.whl.metadata (15 kB)\n",
      "Requirement already satisfied: langcodes<4.0.0,>=3.2.0 in d:\\viisem\\knowledgegraphusingmondo\\.conda\\lib\\site-packages (from spacy->-r requirement.txt (line 5)) (3.3.0)\n",
      "Requirement already satisfied: fsspec in d:\\viisem\\knowledgegraphusingmondo\\.conda\\lib\\site-packages (from huggingface-hub<1.0,>=0.16.4->transformers->-r requirement.txt (line 7)) (2023.10.0)\n",
      "Requirement already satisfied: six in d:\\viisem\\knowledgegraphusingmondo\\.conda\\lib\\site-packages (from isodate<0.7.0,>=0.6.0->rdflib->-r requirement.txt (line 8)) (1.16.0)\n",
      "Collecting pybind11<2.6.2 (from nmslib>=1.7.3.6->scispacy->-r requirement.txt (line 12))\n",
      "  Using cached pybind11-2.6.1-py2.py3-none-any.whl (188 kB)\n",
      "Requirement already satisfied: psutil in d:\\viisem\\knowledgegraphusingmondo\\.conda\\lib\\site-packages (from nmslib>=1.7.3.6->scispacy->-r requirement.txt (line 12)) (5.9.0)\n",
      "Collecting threadpoolctl>=2.0.0 (from scikit-learn>=0.20.3->scispacy->-r requirement.txt (line 12))\n",
      "  Using cached threadpoolctl-3.2.0-py3-none-any.whl.metadata (10.0 kB)\n",
      "Requirement already satisfied: confection<1.0.0,>=0.0.1 in d:\\viisem\\knowledgegraphusingmondo\\.conda\\lib\\site-packages (from thinc<8.2.0,>=8.1.8->spacy->-r requirement.txt (line 5)) (0.1.3)\n",
      "Requirement already satisfied: click<7.2.0,>=7.1.1 in d:\\viisem\\knowledgegraphusingmondo\\.conda\\lib\\site-packages (from typer<0.4.0,>=0.3.0->spacy->-r requirement.txt (line 5)) (7.1.2)\n",
      "Requirement already satisfied: soupsieve>1.2 in d:\\viisem\\knowledgegraphusingmondo\\.conda\\lib\\site-packages (from beautifulsoup4->bs4->-r requirement.txt (line 1)) (2.5)\n",
      "Requirement already satisfied: MarkupSafe>=2.0 in d:\\viisem\\knowledgegraphusingmondo\\.conda\\lib\\site-packages (from jinja2->spacy->-r requirement.txt (line 5)) (2.1.3)\n",
      "Using cached scispacy-0.5.3-py3-none-any.whl (45 kB)\n",
      "Using cached spacy-3.6.1-cp310-cp310-win_amd64.whl (12.0 MB)\n",
      "Using cached scikit_learn-1.3.2-cp310-cp310-win_amd64.whl (9.3 MB)\n",
      "Using cached joblib-1.3.2-py3-none-any.whl (302 kB)\n",
      "Using cached thinc-8.1.12-cp310-cp310-win_amd64.whl (1.5 MB)\n",
      "Using cached conllu-4.5.3-py2.py3-none-any.whl (16 kB)\n",
      "Using cached threadpoolctl-3.2.0-py3-none-any.whl (15 kB)\n",
      "Building wheels for collected packages: nmslib\n",
      "  Building wheel for nmslib (setup.py): started\n",
      "  Building wheel for nmslib (setup.py): finished with status 'error'\n",
      "  Running setup.py clean for nmslib\n",
      "Failed to build nmslib\n",
      "Note: you may need to restart the kernel to use updated packages.\n"
     ]
    },
    {
     "name": "stderr",
     "output_type": "stream",
     "text": [
      "  error: subprocess-exited-with-error\n",
      "  \n",
      "  × python setup.py bdist_wheel did not run successfully.\n",
      "  │ exit code: 1\n",
      "  ╰─> [47 lines of output]\n",
      "      Dependence list: ['pybind11<2.6.2', 'psutil', \"numpy>=1.10.0,<1.17 ; python_version=='2.7'\", \"numpy>=1.10.0 ; python_version>='3.5'\"]\n",
      "      d:\\VIISem\\knowledgeGraphUsingMondo\\.conda\\lib\\site-packages\\setuptools\\dist.py:745: SetuptoolsDeprecationWarning: Invalid dash-separated options\n",
      "      !!\n",
      "      \n",
      "              ********************************************************************************\n",
      "              Usage of dash-separated 'description-file' will not be supported in future\n",
      "              versions. Please use the underscore name 'description_file' instead.\n",
      "      \n",
      "              This deprecation is overdue, please update your project and remove deprecated\n",
      "              calls to avoid build errors in the future.\n",
      "      \n",
      "              See https://setuptools.pypa.io/en/latest/userguide/declarative_config.html for details.\n",
      "              ********************************************************************************\n",
      "      \n",
      "      !!\n",
      "        opt = self.warn_dash_deprecation(opt, section)\n",
      "      d:\\VIISem\\knowledgeGraphUsingMondo\\.conda\\lib\\site-packages\\setuptools\\__init__.py:84: _DeprecatedInstaller: setuptools.installer and fetch_build_eggs are deprecated.\n",
      "      !!\n",
      "      \n",
      "              ********************************************************************************\n",
      "              Requirements should be satisfied by a PEP 517 installer.\n",
      "              If you are using pip, you can try `pip install --use-pep517`.\n",
      "              ********************************************************************************\n",
      "      \n",
      "      !!\n",
      "        dist.fetch_build_eggs(dist.setup_requires)\n",
      "      d:\\VIISem\\knowledgeGraphUsingMondo\\.conda\\lib\\site-packages\\setuptools\\dist.py:745: SetuptoolsDeprecationWarning: Invalid dash-separated options\n",
      "      !!\n",
      "      \n",
      "              ********************************************************************************\n",
      "              Usage of dash-separated 'description-file' will not be supported in future\n",
      "              versions. Please use the underscore name 'description_file' instead.\n",
      "      \n",
      "              This deprecation is overdue, please update your project and remove deprecated\n",
      "              calls to avoid build errors in the future.\n",
      "      \n",
      "              See https://setuptools.pypa.io/en/latest/userguide/declarative_config.html for details.\n",
      "              ********************************************************************************\n",
      "      \n",
      "      !!\n",
      "        opt = self.warn_dash_deprecation(opt, section)\n",
      "      running bdist_wheel\n",
      "      running build\n",
      "      running build_ext\n",
      "      Extra compilation arguments: ['/EHsc', '/openmp', '/O2', '/DVERSION_INFO=\\\\\"2.1.1\\\\\"']\n",
      "      building 'nmslib' extension\n",
      "      error: Microsoft Visual C++ 14.0 or greater is required. Get it with \"Microsoft C++ Build Tools\": https://visualstudio.microsoft.com/visual-cpp-build-tools/\n",
      "      [end of output]\n",
      "  \n",
      "  note: This error originates from a subprocess, and is likely not a problem with pip.\n",
      "  ERROR: Failed building wheel for nmslib\n",
      "ERROR: Could not build wheels for nmslib, which is required to install pyproject.toml-based projects\n"
     ]
    }
   ],
   "source": [
    "%pip install -r requirement.txt"
   ]
  },
  {
   "cell_type": "code",
   "execution_count": null,
   "metadata": {},
   "outputs": [],
   "source": [
    "#error can occur, careful!!\n",
    "%pip install https://github.com/explosion/spacy-models/releases/download/en_core_web_md-3.0.0/en_core_web_md-3.0.0.tar.gz\n",
    "%pip install https://s3-us-west-2.amazonaws.com/ai2-s2-scispacy/releases/v0.4.0/en_ner_bc5cdr_md-0.4.0.tar.gz"
   ]
  },
  {
   "cell_type": "code",
   "execution_count": 1,
   "metadata": {},
   "outputs": [],
   "source": [
    "import os\n",
    "cwd_path= os.getcwd()\n",
    "cwd_path= cwd_path.replace(\"\\\\\",\"/\")"
   ]
  },
  {
   "cell_type": "markdown",
   "metadata": {},
   "source": [
    "Lets scrape the required dataset \n",
    "Input will be a text file containing articles abstracts from pubmed"
   ]
  },
  {
   "cell_type": "code",
   "execution_count": 2,
   "metadata": {},
   "outputs": [
    {
     "name": "stdout",
     "output_type": "stream",
     "text": [
      "Search results saved to a text file.\n"
     ]
    }
   ],
   "source": [
    "from my_packages.get_document import module_get_document\n",
    "\n",
    "kg_disease= str(input(\"please enter the disease you want a knowledge graph for: \"))\n",
    "no_of_articles= int(input(\"please enter the number of articles you want to consider: \")) #expected wall time for 10 articles around 12 mins\n",
    "dataset_file_path= cwd_path + \"/datasets/dataset.txt\"\n",
    "\n",
    "module_get_document.get_docx(kg_disease, no_of_articles, dataset_file_path)\n"
   ]
  },
  {
   "cell_type": "markdown",
   "metadata": {},
   "source": [
    "Lets crete a log file for ouputs "
   ]
  },
  {
   "cell_type": "code",
   "execution_count": 3,
   "metadata": {},
   "outputs": [],
   "source": [
    "log_file_path= cwd_path + \"/ouput/output_log.txt\"\n",
    "\n",
    "try:\n",
    "    with open(log_file_path, 'w') as fh:\n",
    "        fh.write(\"welcome to the log file!\")\n",
    "except Exception as e:\n",
    "    print(e)"
   ]
  },
  {
   "cell_type": "markdown",
   "metadata": {},
   "source": [
    "Lets create a dataframe that can be later deployed to neo4J"
   ]
  },
  {
   "cell_type": "code",
   "execution_count": 4,
   "metadata": {},
   "outputs": [
    {
     "name": "stderr",
     "output_type": "stream",
     "text": [
      "d:\\VIISem\\knowledgeGraphUsingMondo\\.conda\\lib\\site-packages\\tqdm\\auto.py:21: TqdmWarning: IProgress not found. Please update jupyter and ipywidgets. See https://ipywidgets.readthedocs.io/en/stable/user_install.html\n",
      "  from .autonotebook import tqdm as notebook_tqdm\n",
      "None of PyTorch, TensorFlow >= 2.0, or Flax have been found. Models won't be available and only tokenizers, configuration and file/data utilities can be used.\n",
      "100%|██████████| 122/122 [03:53<00:00,  1.92s/it]\n"
     ]
    }
   ],
   "source": [
    "from my_packages.get_knowledgeGraph import module_getKnowledgeGrpah\n",
    "\n",
    "output_df_path= module_getKnowledgeGrpah.get_gph(cwd_path, log_file_path, dataset_file_path)\n"
   ]
  },
  {
   "cell_type": "markdown",
   "metadata": {},
   "source": [
    "Lets deploy df to neo4J :)"
   ]
  },
  {
   "cell_type": "code",
   "execution_count": 1,
   "metadata": {},
   "outputs": [
    {
     "name": "stdout",
     "output_type": "stream",
     "text": [
      "{'total': 118, 'batches': 1, 'time': 2.222074508666992}\n",
      "{'total': 0, 'batches': 1, 'time': 2.079439163208008}\n",
      "{'total': 0, 'batches': 1, 'time': 1.1067159175872803}\n",
      "{'total': 0, 'batches': 1, 'time': 0.7044076919555664}\n"
     ]
    }
   ],
   "source": [
    "from my_packages.create_graph import module_createGraph\n",
    "#the load_gh fn takes input of bolt url and password of sandbox, create your own sandbow on neo4J\n",
    "class_labels= module_createGraph.load_gh(\"bolt://54.157.54.135:7687\", \"saying-defense-surpluses\", 'D:/VIISem/knowledgeGraphUsingMondo/ouput/dataframe_srt.csv')"
   ]
  },
  {
   "cell_type": "markdown",
   "metadata": {},
   "source": [
    "* Ignore below if you dont need to check efficiency!!"
   ]
  },
  {
   "cell_type": "code",
   "execution_count": 4,
   "metadata": {},
   "outputs": [
    {
     "ename": "NameError",
     "evalue": "name 'output_df_path' is not defined",
     "output_type": "error",
     "traceback": [
      "\u001b[1;31m---------------------------------------------------------------------------\u001b[0m",
      "\u001b[1;31mNameError\u001b[0m                                 Traceback (most recent call last)",
      "\u001b[1;32md:\\VIISem\\knowledgeGraphUsingMondo\\main.ipynb Cell 14\u001b[0m line \u001b[0;36m3\n\u001b[0;32m      <a href='vscode-notebook-cell:/d%3A/VIISem/knowledgeGraphUsingMondo/main.ipynb#X15sZmlsZQ%3D%3D?line=0'>1</a>\u001b[0m annotated_file_path\u001b[39m=\u001b[39m cwd_path \u001b[39m+\u001b[39m \u001b[39m\"\u001b[39m\u001b[39m/ouput/annotated.csv\u001b[39m\u001b[39m\"\u001b[39m\n\u001b[0;32m      <a href='vscode-notebook-cell:/d%3A/VIISem/knowledgeGraphUsingMondo/main.ipynb#X15sZmlsZQ%3D%3D?line=1'>2</a>\u001b[0m \u001b[39mfrom\u001b[39;00m \u001b[39mmy_packages\u001b[39;00m\u001b[39m.\u001b[39;00m\u001b[39mcheck_efficiencyGraph\u001b[39;00m \u001b[39mimport\u001b[39;00m module_get_efficiency\n\u001b[1;32m----> <a href='vscode-notebook-cell:/d%3A/VIISem/knowledgeGraphUsingMondo/main.ipynb#X15sZmlsZQ%3D%3D?line=2'>3</a>\u001b[0m module_get_efficiency\u001b[39m.\u001b[39mcheck_ef(output_df_path, annotated_file_path)\n",
      "\u001b[1;31mNameError\u001b[0m: name 'output_df_path' is not defined"
     ]
    }
   ],
   "source": [
    "annotated_file_path= cwd_path + \"/ouput/annotated.csv\"\n",
    "from my_packages.check_efficiencyGraph import module_get_efficiency\n",
    "module_get_efficiency.check_ef(output_df_path, annotated_file_path)"
   ]
  }
 ],
 "metadata": {
  "kernelspec": {
   "display_name": "Python 3",
   "language": "python",
   "name": "python3"
  },
  "language_info": {
   "codemirror_mode": {
    "name": "ipython",
    "version": 3
   },
   "file_extension": ".py",
   "mimetype": "text/x-python",
   "name": "python",
   "nbconvert_exporter": "python",
   "pygments_lexer": "ipython3",
   "version": "3.10.13"
  }
 },
 "nbformat": 4,
 "nbformat_minor": 2
}
