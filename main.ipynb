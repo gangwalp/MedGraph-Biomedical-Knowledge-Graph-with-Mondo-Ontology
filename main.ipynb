{
 "cells": [
  {
   "cell_type": "markdown",
   "metadata": {},
   "source": [
    "ALL THE EXTERNAL REUIQREMENTS ARE PRESNET IN ./requirement.txt"
   ]
  },
  {
   "cell_type": "code",
   "execution_count": null,
   "metadata": {},
   "outputs": [],
   "source": [
    "%pip install -r requirement.txt"
   ]
  },
  {
   "cell_type": "code",
   "execution_count": null,
   "metadata": {},
   "outputs": [],
   "source": [
    "#error can occur, careful!!\n",
    "%pip install https://github.com/explosion/spacy-models/releases/download/en_core_web_md-3.0.0/en_core_web_md-3.0.0.tar.gz\n",
    "%pip install https://s3-us-west-2.amazonaws.com/ai2-s2-scispacy/releases/v0.4.0/en_ner_bc5cdr_md-0.4.0.tar.gz"
   ]
  },
  {
   "cell_type": "markdown",
   "metadata": {},
   "source": [
    "Lets scrape the required dataset \n",
    "Input will be a text file containing articles abstracts from pubmed"
   ]
  },
  {
   "cell_type": "code",
   "execution_count": 1,
   "metadata": {},
   "outputs": [
    {
     "name": "stdout",
     "output_type": "stream",
     "text": [
      "Search results saved to a text file.\n"
     ]
    }
   ],
   "source": [
    "from my_packages.get_document import module_get_document\n",
    "\n",
    "kg_disease= str(input(\"please enter the disease you want a knowledge graph for: \"))\n",
    "no_of_articles= int(input(\"please enter the number of articles you want to consider: \")) #expected wall time for 10 articles around 12 mins\n",
    "\n",
    "\n",
    "module_get_document.get_docx(kg_disease, no_of_articles)\n"
   ]
  },
  {
   "cell_type": "markdown",
   "metadata": {},
   "source": [
    "Lets crete a log file for ouputs "
   ]
  },
  {
   "cell_type": "code",
   "execution_count": 3,
   "metadata": {},
   "outputs": [],
   "source": [
    "with open(\"D:/VIISem/knowledgeGraphUsingMondo/ouput/output_log.txt\", 'w') as fh:\n",
    "    pass"
   ]
  },
  {
   "cell_type": "markdown",
   "metadata": {},
   "source": [
    "Lets create a dataframe that can be later deployed to neo4J"
   ]
  },
  {
   "cell_type": "code",
   "execution_count": 4,
   "metadata": {},
   "outputs": [
    {
     "name": "stderr",
     "output_type": "stream",
     "text": [
      "d:\\VIISem\\knowledgeGraphUsingMondo\\.conda\\lib\\site-packages\\tqdm\\auto.py:21: TqdmWarning: IProgress not found. Please update jupyter and ipywidgets. See https://ipywidgets.readthedocs.io/en/stable/user_install.html\n",
      "  from .autonotebook import tqdm as notebook_tqdm\n",
      "None of PyTorch, TensorFlow >= 2.0, or Flax have been found. Models won't be available and only tokenizers, configuration and file/data utilities can be used.\n",
      "100%|██████████| 110/110 [03:54<00:00,  2.13s/it]\n"
     ]
    }
   ],
   "source": [
    "from my_packages.get_knowledgeGraph import module_getKnowledgeGrpah\n",
    "\n",
    "df= module_getKnowledgeGrpah.get_gph()\n"
   ]
  },
  {
   "cell_type": "markdown",
   "metadata": {},
   "source": [
    "Lets deploy df to neo4J :)"
   ]
  },
  {
   "cell_type": "code",
   "execution_count": null,
   "metadata": {},
   "outputs": [],
   "source": [
    "from my_packages.create_graph import module_createGraph\n",
    "\n",
    "class_labels= module_createGraph.load_gh(\"bolt://54.166.113.35:7687\", \"runaways-operator-ovens\", df)"
   ]
  },
  {
   "cell_type": "markdown",
   "metadata": {},
   "source": [
    "* Ignore below if you dont need to check efficiency!!"
   ]
  },
  {
   "cell_type": "code",
   "execution_count": 1,
   "metadata": {},
   "outputs": [
    {
     "name": "stdout",
     "output_type": "stream",
     "text": [
      "checking for original-> output\n",
      "Percentage of source values matched: 51.35135135135135\n",
      "Percentage of target values matched: 0.0\n"
     ]
    }
   ],
   "source": [
    "from my_packages.check_efficiencyGraph import module_get_efficiency\n",
    "module_get_efficiency.check_ef(\"D:/VIISem/knowledgeGraphUsingMondo/ouput/dataframe_srt.csv\", \"D:/VIISem/knowledgeGraphUsingMondo/ouput/annotated.csv\")"
   ]
  }
 ],
 "metadata": {
  "kernelspec": {
   "display_name": "Python 3",
   "language": "python",
   "name": "python3"
  },
  "language_info": {
   "codemirror_mode": {
    "name": "ipython",
    "version": 3
   },
   "file_extension": ".py",
   "mimetype": "text/x-python",
   "name": "python",
   "nbconvert_exporter": "python",
   "pygments_lexer": "ipython3",
   "version": "3.10.13"
  }
 },
 "nbformat": 4,
 "nbformat_minor": 2
}
